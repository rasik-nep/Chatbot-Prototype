{
  "nbformat": 4,
  "nbformat_minor": 0,
  "metadata": {
    "colab": {
      "provenance": [],
      "authorship_tag": "ABX9TyMLlPe6WT73GmXsQ7BYSeZv",
      "include_colab_link": true
    },
    "kernelspec": {
      "name": "python3",
      "display_name": "Python 3"
    },
    "language_info": {
      "name": "python"
    }
  },
  "cells": [
    {
      "cell_type": "markdown",
      "metadata": {
        "id": "view-in-github",
        "colab_type": "text"
      },
      "source": [
        "<a href=\"https://colab.research.google.com/github/rasik-nep/Chatbot-Prototype/blob/main/ChatbotPrototype.ipynb\" target=\"_parent\"><img src=\"https://colab.research.google.com/assets/colab-badge.svg\" alt=\"Open In Colab\"/></a>"
      ]
    },
    {
      "cell_type": "markdown",
      "source": [
        "# Prototype\n",
        "This is just a prototype to check if the OpenAI key is working or not. This program simply reads the content of the pdf and the query are sent in a single request to the OpenAPI Chat API."
      ],
      "metadata": {
        "id": "luiFtonuPjxR"
      }
    },
    {
      "cell_type": "code",
      "execution_count": 18,
      "metadata": {
        "colab": {
          "base_uri": "https://localhost:8080/"
        },
        "id": "odYD5GPzHzCn",
        "outputId": "bdbdd0e7-3cde-43dc-a00f-5d707f3271b5"
      },
      "outputs": [
        {
          "output_type": "stream",
          "name": "stdout",
          "text": [
            "Requirement already satisfied: langchain in /usr/local/lib/python3.10/dist-packages (0.1.11)\n",
            "Requirement already satisfied: OpenAI in /usr/local/lib/python3.10/dist-packages (1.13.3)\n",
            "Requirement already satisfied: pypdf in /usr/local/lib/python3.10/dist-packages (4.1.0)\n",
            "Requirement already satisfied: langchain_openai in /usr/local/lib/python3.10/dist-packages (0.0.8)\n",
            "Collecting load_dotenv\n",
            "  Downloading load_dotenv-0.1.0-py3-none-any.whl (7.2 kB)\n",
            "Requirement already satisfied: PyYAML>=5.3 in /usr/local/lib/python3.10/dist-packages (from langchain) (6.0.1)\n",
            "Requirement already satisfied: SQLAlchemy<3,>=1.4 in /usr/local/lib/python3.10/dist-packages (from langchain) (2.0.28)\n",
            "Requirement already satisfied: aiohttp<4.0.0,>=3.8.3 in /usr/local/lib/python3.10/dist-packages (from langchain) (3.9.3)\n",
            "Requirement already satisfied: async-timeout<5.0.0,>=4.0.0 in /usr/local/lib/python3.10/dist-packages (from langchain) (4.0.3)\n",
            "Requirement already satisfied: dataclasses-json<0.7,>=0.5.7 in /usr/local/lib/python3.10/dist-packages (from langchain) (0.6.4)\n",
            "Requirement already satisfied: jsonpatch<2.0,>=1.33 in /usr/local/lib/python3.10/dist-packages (from langchain) (1.33)\n",
            "Requirement already satisfied: langchain-community<0.1,>=0.0.25 in /usr/local/lib/python3.10/dist-packages (from langchain) (0.0.27)\n",
            "Requirement already satisfied: langchain-core<0.2,>=0.1.29 in /usr/local/lib/python3.10/dist-packages (from langchain) (0.1.30)\n",
            "Requirement already satisfied: langchain-text-splitters<0.1,>=0.0.1 in /usr/local/lib/python3.10/dist-packages (from langchain) (0.0.1)\n",
            "Requirement already satisfied: langsmith<0.2.0,>=0.1.17 in /usr/local/lib/python3.10/dist-packages (from langchain) (0.1.23)\n",
            "Requirement already satisfied: numpy<2,>=1 in /usr/local/lib/python3.10/dist-packages (from langchain) (1.25.2)\n",
            "Requirement already satisfied: pydantic<3,>=1 in /usr/local/lib/python3.10/dist-packages (from langchain) (2.6.3)\n",
            "Requirement already satisfied: requests<3,>=2 in /usr/local/lib/python3.10/dist-packages (from langchain) (2.31.0)\n",
            "Requirement already satisfied: tenacity<9.0.0,>=8.1.0 in /usr/local/lib/python3.10/dist-packages (from langchain) (8.2.3)\n",
            "Requirement already satisfied: anyio<5,>=3.5.0 in /usr/local/lib/python3.10/dist-packages (from OpenAI) (3.7.1)\n",
            "Requirement already satisfied: distro<2,>=1.7.0 in /usr/lib/python3/dist-packages (from OpenAI) (1.7.0)\n",
            "Requirement already satisfied: httpx<1,>=0.23.0 in /usr/local/lib/python3.10/dist-packages (from OpenAI) (0.27.0)\n",
            "Requirement already satisfied: sniffio in /usr/local/lib/python3.10/dist-packages (from OpenAI) (1.3.1)\n",
            "Requirement already satisfied: tqdm>4 in /usr/local/lib/python3.10/dist-packages (from OpenAI) (4.66.2)\n",
            "Requirement already satisfied: typing-extensions<5,>=4.7 in /usr/local/lib/python3.10/dist-packages (from OpenAI) (4.10.0)\n",
            "Requirement already satisfied: tiktoken<1,>=0.5.2 in /usr/local/lib/python3.10/dist-packages (from langchain_openai) (0.6.0)\n",
            "Collecting python-dotenv (from load_dotenv)\n",
            "  Downloading python_dotenv-1.0.1-py3-none-any.whl (19 kB)\n",
            "Requirement already satisfied: aiosignal>=1.1.2 in /usr/local/lib/python3.10/dist-packages (from aiohttp<4.0.0,>=3.8.3->langchain) (1.3.1)\n",
            "Requirement already satisfied: attrs>=17.3.0 in /usr/local/lib/python3.10/dist-packages (from aiohttp<4.0.0,>=3.8.3->langchain) (23.2.0)\n",
            "Requirement already satisfied: frozenlist>=1.1.1 in /usr/local/lib/python3.10/dist-packages (from aiohttp<4.0.0,>=3.8.3->langchain) (1.4.1)\n",
            "Requirement already satisfied: multidict<7.0,>=4.5 in /usr/local/lib/python3.10/dist-packages (from aiohttp<4.0.0,>=3.8.3->langchain) (6.0.5)\n",
            "Requirement already satisfied: yarl<2.0,>=1.0 in /usr/local/lib/python3.10/dist-packages (from aiohttp<4.0.0,>=3.8.3->langchain) (1.9.4)\n",
            "Requirement already satisfied: idna>=2.8 in /usr/local/lib/python3.10/dist-packages (from anyio<5,>=3.5.0->OpenAI) (3.6)\n",
            "Requirement already satisfied: exceptiongroup in /usr/local/lib/python3.10/dist-packages (from anyio<5,>=3.5.0->OpenAI) (1.2.0)\n",
            "Requirement already satisfied: marshmallow<4.0.0,>=3.18.0 in /usr/local/lib/python3.10/dist-packages (from dataclasses-json<0.7,>=0.5.7->langchain) (3.21.1)\n",
            "Requirement already satisfied: typing-inspect<1,>=0.4.0 in /usr/local/lib/python3.10/dist-packages (from dataclasses-json<0.7,>=0.5.7->langchain) (0.9.0)\n",
            "Requirement already satisfied: certifi in /usr/local/lib/python3.10/dist-packages (from httpx<1,>=0.23.0->OpenAI) (2024.2.2)\n",
            "Requirement already satisfied: httpcore==1.* in /usr/local/lib/python3.10/dist-packages (from httpx<1,>=0.23.0->OpenAI) (1.0.4)\n",
            "Requirement already satisfied: h11<0.15,>=0.13 in /usr/local/lib/python3.10/dist-packages (from httpcore==1.*->httpx<1,>=0.23.0->OpenAI) (0.14.0)\n",
            "Requirement already satisfied: jsonpointer>=1.9 in /usr/local/lib/python3.10/dist-packages (from jsonpatch<2.0,>=1.33->langchain) (2.4)\n",
            "Requirement already satisfied: packaging<24.0,>=23.2 in /usr/local/lib/python3.10/dist-packages (from langchain-core<0.2,>=0.1.29->langchain) (23.2)\n",
            "Requirement already satisfied: orjson<4.0.0,>=3.9.14 in /usr/local/lib/python3.10/dist-packages (from langsmith<0.2.0,>=0.1.17->langchain) (3.9.15)\n",
            "Requirement already satisfied: annotated-types>=0.4.0 in /usr/local/lib/python3.10/dist-packages (from pydantic<3,>=1->langchain) (0.6.0)\n",
            "Requirement already satisfied: pydantic-core==2.16.3 in /usr/local/lib/python3.10/dist-packages (from pydantic<3,>=1->langchain) (2.16.3)\n",
            "Requirement already satisfied: charset-normalizer<4,>=2 in /usr/local/lib/python3.10/dist-packages (from requests<3,>=2->langchain) (3.3.2)\n",
            "Requirement already satisfied: urllib3<3,>=1.21.1 in /usr/local/lib/python3.10/dist-packages (from requests<3,>=2->langchain) (2.0.7)\n",
            "Requirement already satisfied: greenlet!=0.4.17 in /usr/local/lib/python3.10/dist-packages (from SQLAlchemy<3,>=1.4->langchain) (3.0.3)\n",
            "Requirement already satisfied: regex>=2022.1.18 in /usr/local/lib/python3.10/dist-packages (from tiktoken<1,>=0.5.2->langchain_openai) (2023.12.25)\n",
            "Requirement already satisfied: mypy-extensions>=0.3.0 in /usr/local/lib/python3.10/dist-packages (from typing-inspect<1,>=0.4.0->dataclasses-json<0.7,>=0.5.7->langchain) (1.0.0)\n",
            "Installing collected packages: python-dotenv, load_dotenv\n",
            "Successfully installed load_dotenv-0.1.0 python-dotenv-1.0.1\n"
          ]
        }
      ],
      "source": [
        "!pip install langchain OpenAI pypdf langchain_openai load_dotenv"
      ]
    },
    {
      "cell_type": "code",
      "source": [
        "from langchain.chains.question_answering import load_qa_chain\n",
        "from langchain_community.document_loaders import PyPDFLoader\n",
        "from langchain_openai import OpenAI"
      ],
      "metadata": {
        "id": "imP3K20JM_eF"
      },
      "execution_count": 11,
      "outputs": []
    },
    {
      "cell_type": "code",
      "source": [
        "pdf_loader = PyPDFLoader('RachelGreenCV.pdf')\n",
        "documents = pdf_loader.load()\n",
        "print(documents)"
      ],
      "metadata": {
        "colab": {
          "base_uri": "https://localhost:8080/"
        },
        "id": "s7oXepGuNTEn",
        "outputId": "25485420-3704-4824-81e8-b0ed6eb5b24d"
      },
      "execution_count": 14,
      "outputs": [
        {
          "output_type": "stream",
          "name": "stdout",
          "text": [
            "[Document(page_content='3 grad.illinois.edu/CareerDevelopment Rachel Green  \\n2 1 0  W .  G R E E N  S T . ,  C H A M P A I G N ,  I L  \\n( 2 1 7 )  5 5 5 - 1 2 3 4  •  R S T U D E N T @ I L L I N O I S . E D U  \\nEDUCATION  \\nPhD in English May 20xx \\nUniversity of Illinois at Urbana-Champaign \\nDissertation title:  “Down on the Farm: World War One and the Emergence of Literary  \\nModernism in the American South”  \\nCommittee : Margaret Black, Naomi Blue, John Jay, Robert Roberts (Chair) \\nMA in English  20xx \\nUniversity of Illinois at Urbana-Champaign \\nBA in English and Communications, summa cum laude  20xx \\nButler University, Indianapolis, IN  \\nTEACHING  & A DVISING   \\nComposition Instructor  20xx-present \\nResearch Writing Program, University of Illinois \\n\\uf0b7Facilitator for seven sections of English composition.\\n\\uf0b7Planned and taught a writing-intensive course based upon current events.\\n\\uf0b7Used instructional technology to enhance pedagogical technique.\\n\\uf0b7Taught in part with an innovative, interdisciplinary team-teaching program design.\\nLiterature Instructor 20xx-present \\nDepartment of English, University of Illinois \\n\\uf0b7Instructor of record for two sections of literature, including Major American Authors  and\\nIntroduction to Poetry per semester.\\n\\uf0b7Integrated multimedia and humanities approaches to teaching literature using film and instructional\\ntechnology.\\nCoordinating Group Leader 20xx-20xx \\nResearch Writing Program, University of Illinois \\n\\uf0b7Planned and led required training session for teaching assistants and new composition teachers.\\n\\uf0b7Helped to mentor new hires to the English Department staff to ensure their engagement and\\nprofessional development.\\n\\uf0b7Provided job shadowing and training opportunities to assist new hires in adjusting to the pace of\\nwork and the tone and style of the University.\\nDiscussion Leader  20xx \\nCarolina Summer Reading Program, University of Illinois  \\n\\uf0b7Led group discussion for first-year students on academic topics.\\nTeaching Assistant 20xx-20xx \\nDepartment of English, University of Illinois at Urbana-Champaign \\n\\uf0b7Taught a section on film criticism, including film history, theory and technical vocabulary.\\n\\uf0b7Planned lessons and assignments, led discussion sections, graded papers and exams.\\n\\uf0b7Organized and led group discussions on social and academic issues.CV SAMPLE ', metadata={'source': 'RachelGreenCV.pdf', 'page': 0}), Document(page_content='4 grad.illinois.edu/CareerDevelopment RESEARCH  EXPERIENCE   \\nDoctoral Researcher 20xx-20xx \\nDepartment of English, University of Illinois at Urbana-Champaign \\n\\uf0b7Conducted primary source research at numerous archives, examining publication history through\\nmultiple sources.\\n\\uf0b7Examined the literature of William Faulkner, Thomas Wolfe, and Tennessee Williams, exploring\\ntheir publication records, construction of literary identity, and relationship with modernism.\\nResearch Assistant 20xx \\nDepartment of English, University of Illinois at Urbana-Champaign \\n\\uf0b7Assistant to Professor Robert Warren, conducting primary and secondary source research.\\n\\uf0b7Organized for the “New Directions in the Study of Southern Literature: An Interdisciplinary\\nConference.”\\nPUBLICATIONS   \\nAssociate Editor of North Carolina Slave Narratives. John Jacob Franz, general editor. Forthcoming \\nfrom University of Illinois Press, 20xx. \\nJohnson, JM, Lolie, T., and Green, R.  “Lost on the Farm: Popular Beliefs” Somebody Journal, Special \\nIssue, Reflections on the Americas. Vol. 6. Accepted and forthcoming. \\nGreen, R. “Fugitives/Agrarians” in A Companion to Twentieth -Century American Poetry. Rutgers \\nPress., 20xx. \\nDavis, D.A. and Green, R.  “Will N. Harben,” “Etheridge Knight,” and “James Wilcox” in Southern \\nWriters: A Biographical Dictionary. Louisiana State University Press, 20xx. \\nCONFERENCE  PRESENTATIONS   \\n“Artistic Colloquialism,” Illinois Graduate College Seminar, speaker and organizer. Urbana, IL, 20xx.  \\n“Transitional Bible Belt,” US Divergence Symposium, Duke University, NC, February 20xx.  \\n“The Ministry of Rev. Thomas H. Jones,” South Atlantic Modern Language Association. Atlanta, GA, \\nMay 20xx. \\n“Shackles and Stripes: The Cinematic Representation of the Southern Chain Gain.” American Literature \\nAssociation. Cambridge, Massachusetts, November 20xx. \\n“Body Place of Sprits in the South,” Queen Mary College, University of London, April 6 -8, 20xx. \\nHONORS  AND  AWARDS  \\nJacob K. Javitz Fellowship, U.S. Department of Education 20xx-present \\nGraduate College Dissertation Completion Award, University of Illinois 20xx \\nCampus Teaching Award based on student evaluations, University of Illinois 20xx-20xx \\nDoctoral Fellowship, Illinois Program for Research in the Humanities,  20xx-20xx \\nUniversity of Illinois \\nSummer Research Grant, Center for Summer Studies, City, ST  20xx \\nGraduate College Conference Travel Grant, University of Illinois 20xx & 20xx \\nMost Outstanding Butler Woman, Butler University, Indianapolis, IN 20xx \\nAcademic Scholarship, Butler University, Indianapolis, IN 20xx-20xx \\nRachel Green, page 2 of 3 ', metadata={'source': 'RachelGreenCV.pdf', 'page': 1}), Document(page_content='5 grad.illinois.edu/CareerDevelopment PROFESSIONAL  SERVICE  \\nManaging Editor 20xx-present \\nSouthern Literary Journal  \\n\\uf0b7Process manuscripts submitted for publication\\n\\uf0b7Oversee production and publication procedures.\\n\\uf0b7Maintain editorial correspondence with prospective contributors.\\n\\uf0b7Conduct business transactions including publicity, subscriptions and advertising.\\nPoetry Staff 20xx-present \\nUniversity Quarterly \\n\\uf0b7Review and solicit poems for possible publication.\\nEditorial Assistant 20xx-20xx \\nSouthern Literary Journal \\n\\uf0b7Designed and maintained journal’s internet presence.\\n\\uf0b7Edited copy for publication on a monthly basis.\\nUNIVERSITY  SERVICE  \\nGraduate Mentor 20xx-20xx \\nThe Career Center, University of Illinois \\n\\uf0b7Counsel minority undergraduates on graduate programs, application procedures and funding.\\nCareer Advisory Committee 20xx-20xx \\nGraduate College, University of Illinois \\n\\uf0b7Served on university committee to evaluate and propose career services for graduate students.\\n\\uf0b7Collaborated with faculty and students to prepare final report for submission to the Graduate\\nCollege Dean.\\nUniversity Library Advisory Committee 20xx-20xx \\nUndergraduate Library, University of Illinois \\n\\uf0b7Advised University Librarian on needed services and improvements.\\nPROFESSIONAL  MEMBERSHIPS  \\n\\uf0b7Modern Language Association (MLA)\\n\\uf0b7American Literature Association (ALA)\\n\\uf0b7American Studies Association (ASA)\\n\\uf0b7South Atlantic Modern Language Association\\n(samla)\\uf0b7Society for the Study of Southern Literature\\n\\uf0b7Robert Penn Warren Circle\\n\\uf0b7Southern Research Circle\\n\\uf0b7Fellowship of Southern Writers\\nREFERENCES  \\nJohn Jay , Assoc. Professor of English \\nUniversity of Illinois at Urbana-Champaign \\n(217) 333-1112, jjay@illinois.eduJacob S. Snyder , Assoc. Professor of English \\nUniversity of Illinois at Urbana-Champaign \\n(217) 333-4700, jssnyd@illinois.edu\\nRobert Roberts , Professor of English \\nUniversity of Illinois at Urbana-Champaign \\n(217) 333-0203, rrobe3@illinois.eduSally Briscoe, Assoc. Professor of English \\nButler University, Indianapolis, IN \\n(317) 492-8763, briscoe@butler.edu\\nRachel Green, page 3 of 3 ', metadata={'source': 'RachelGreenCV.pdf', 'page': 2})]\n"
          ]
        }
      ]
    },
    {
      "cell_type": "code",
      "source": [
        "from dotenv import load_dotenv\n",
        "load_dotenv('.env')"
      ],
      "metadata": {
        "colab": {
          "base_uri": "https://localhost:8080/"
        },
        "id": "0HrQQWSzOj7r",
        "outputId": "78e7f269-5e38-4e07-fbd9-5bf80dafd881"
      },
      "execution_count": 20,
      "outputs": [
        {
          "output_type": "execute_result",
          "data": {
            "text/plain": [
              "True"
            ]
          },
          "metadata": {},
          "execution_count": 20
        }
      ]
    },
    {
      "cell_type": "code",
      "source": [
        "from langchain.chains.question_answering import load_qa_chain\n",
        "from langchain_openai import OpenAI\n",
        "\n",
        "# we are specifying that OpenAI is the LLM that we want to use in our chain\n",
        "chain = load_qa_chain(llm=OpenAI())\n",
        "query = 'Who is the CV about?'\n",
        "response = chain.invoke({\"input_documents\": documents, \"question\": query})\n",
        "print(response[\"output_text\"])\n"
      ],
      "metadata": {
        "colab": {
          "base_uri": "https://localhost:8080/"
        },
        "id": "ufmoF-poNfws",
        "outputId": "77b612e7-2f99-4a82-b040-56c0ddcf7dd4"
      },
      "execution_count": 21,
      "outputs": [
        {
          "output_type": "stream",
          "name": "stdout",
          "text": [
            " The CV is about Rachel Green, a PhD candidate in English at the University of Illinois at Urbana-Champaign.\n"
          ]
        }
      ]
    }
  ]
}