{
  "nbformat": 4,
  "nbformat_minor": 0,
  "metadata": {
    "colab": {
      "provenance": [],
      "toc_visible": true,
      "mount_file_id": "1Flvj1ulmN4L4qJRsIgZx616Hi167GNal",
      "authorship_tag": "ABX9TyNzUZRicwC8ICNJdHGD9pMI",
      "include_colab_link": true
    },
    "kernelspec": {
      "name": "python3",
      "display_name": "Python 3"
    },
    "language_info": {
      "name": "python"
    }
  },
  "cells": [
    {
      "cell_type": "markdown",
      "metadata": {
        "id": "view-in-github",
        "colab_type": "text"
      },
      "source": [
        "<a href=\"https://colab.research.google.com/github/rasik-nep/Chatbot-Prototype/blob/main/extract.ipynb\" target=\"_parent\"><img src=\"https://colab.research.google.com/assets/colab-badge.svg\" alt=\"Open In Colab\"/></a>"
      ]
    },
    {
      "cell_type": "code",
      "execution_count": 1,
      "metadata": {
        "colab": {
          "base_uri": "https://localhost:8080/"
        },
        "id": "pt1AizZp-zpS",
        "outputId": "5c271c12-55b1-48c0-f4ec-6e9cff10296f"
      },
      "outputs": [
        {
          "output_type": "stream",
          "name": "stdout",
          "text": [
            "Collecting PyMuPDF\n",
            "  Downloading PyMuPDF-1.23.26-cp310-none-manylinux2014_x86_64.whl (4.4 MB)\n",
            "\u001b[2K     \u001b[90m━━━━━━━━━━━━━━━━━━━━━━━━━━━━━━━━━━━━━━━━\u001b[0m \u001b[32m4.4/4.4 MB\u001b[0m \u001b[31m33.1 MB/s\u001b[0m eta \u001b[36m0:00:00\u001b[0m\n",
            "\u001b[?25hCollecting PyMuPDFb==1.23.22 (from PyMuPDF)\n",
            "  Downloading PyMuPDFb-1.23.22-py3-none-manylinux2014_x86_64.manylinux_2_17_x86_64.whl (30.6 MB)\n",
            "\u001b[2K     \u001b[90m━━━━━━━━━━━━━━━━━━━━━━━━━━━━━━━━━━━━━━━━\u001b[0m \u001b[32m30.6/30.6 MB\u001b[0m \u001b[31m24.7 MB/s\u001b[0m eta \u001b[36m0:00:00\u001b[0m\n",
            "\u001b[?25hInstalling collected packages: PyMuPDFb, PyMuPDF\n",
            "Successfully installed PyMuPDF-1.23.26 PyMuPDFb-1.23.22\n"
          ]
        }
      ],
      "source": [
        "!pip install PyMuPDF"
      ]
    },
    {
      "cell_type": "code",
      "source": [
        "import fitz"
      ],
      "metadata": {
        "id": "aP2EZ1Nd_Etd"
      },
      "execution_count": 2,
      "outputs": []
    },
    {
      "cell_type": "code",
      "source": [
        "def extract_text_from_pdf(pdf_path, start_page, end_page):\n",
        "    try:\n",
        "        # Open the PDF file\n",
        "        pdf_document = fitz.open(pdf_path)\n",
        "\n",
        "        # Initialize an empty string to store extracted text\n",
        "        extracted_text = \"\"\n",
        "\n",
        "        # Iterate through each page in the PDF\n",
        "        for page_num in range(start_page, end_page):\n",
        "            page = pdf_document[page_num]\n",
        "            # Extract text from the page\n",
        "            page_text = page.get_text(\"text\")\n",
        "            # Append the extracted text to the result\n",
        "            extracted_text += page_text\n",
        "\n",
        "        # Close the PDF document\n",
        "        pdf_document.close()\n",
        "\n",
        "        return extracted_text\n",
        "\n",
        "    except Exception as e:\n",
        "        return f\"Error extracting text: {str(e)}\""
      ],
      "metadata": {
        "id": "AW8x8i_y_Yef"
      },
      "execution_count": 3,
      "outputs": []
    },
    {
      "cell_type": "markdown",
      "source": [
        "# Extract Nepali text\n",
        "The text is in Preeti font so we need to convert it to Unicode."
      ],
      "metadata": {
        "id": "63B1xn6kt6RM"
      }
    },
    {
      "cell_type": "code",
      "source": [
        "import re"
      ],
      "metadata": {
        "id": "AdErxYGrAEIt"
      },
      "execution_count": 9,
      "outputs": []
    },
    {
      "cell_type": "code",
      "source": [
        "all_rules = {\"post-rules\": [[\"्ा\", \"\"], [\"(त्र|त्त)([^उभप]+?)m\", \"$1m$2\"], [\"त्रm\", \"क्र\"], [\"त्तm\", \"क्त\"],\n",
        "                            [\"([^उभप]+?)m\", \"m$1\"], [\"उm\", \"ऊ\"], [\"भm\", \"झ\"], [\"पm\", \"फ\"], [\"इ{\", \"ई\"],\n",
        "                            [\"ि((.्)*[^्])\", \"$1ि\"], [\"(.[ािीुूृेैोौंःँ]*?){\", \"{$1\"], [\"((.्)*){\", \"{$1\"], [\"{\", \"र्\"],\n",
        "                            [\"([ाीुूृेैोौंःँ]+?)(्(.्)*[^्])\", \"$2$1\"], [\"्([ाीुूृेैोौंःँ]+?)((.्)*[^्])\", \"्$2$1\"],\n",
        "                            [\"([ंँ])([ािीुूृेैोौः]*)\", \"$2$1\"], [\"ँँ\", \"ँ\"], [\"ंं\", \"ं\"], [\"ेे\", \"े\"], [\"ैै\", \"ै\"],\n",
        "                            [\"ुु\", \"ु\"], [\"ूू\", \"ू\"], [\"^ः\", \":\"], [\"टृ\", \"ट्ट\"], [\"ेा\", \"ाे\"], [\"ैा\", \"ाै\"],\n",
        "                            [\"अाे\", \"ओ\"], [\"अाै\", \"औ\"], [\"अा\", \"आ\"], [\"एे\", \"ऐ\"], [\"ाे\", \"ो\"], [\"ाै\", \"ौ\"]],\n",
        "\n",
        "             \"char-map\": {\n",
        "                 \"÷\": \"/\", \"v\": \"ख\", \"r\": \"च\", \"\\\"\": \"ू\", \"~\": \"ञ्\", \"z\": \"श\", \"ç\": \"ॐ\", \"f\": \"ा\", \"b\": \"द\", \"n\": \"ल\",\n",
        "                 \"j\": \"व\", \"×\": \"×\", \"V\": \"ख्\", \"R\": \"च्\", \"ß\": \"द्म\", \"^\": \"६\", \"Û\": \"!\", \"Z\": \"श्\", \"F\": \"ँ\",\n",
        "                 \"B\": \"द्य\", \"N\": \"ल्\", \"Ë\": \"ङ्ग\", \"J\": \"व्\", \"6\": \"ट\", \"2\": \"द्द\", \"¿\": \"रू\", \">\": \"श्र\", \":\": \"स्\",\n",
        "                 \"§\": \"ट्ट\", \"&\": \"७\", \"£\": \"घ्\", \"•\": \"ड्ड\", \".\": \"।\", \"«\": \"्र\", \"*\": \"८\", \"„\": \"ध्र\", \"w\": \"ध\",\n",
        "                 \"s\": \"क\", \"g\": \"न\", \"æ\": \"“\", \"c\": \"अ\", \"o\": \"य\", \"k\": \"प\", \"W\": \"ध्\", \"Ö\": \"=\", \"S\": \"क्\", \"Ò\": \"¨\",\n",
        "                 \"_\": \")\", \"[\": \"ृ\", \"Ú\": \"’\", \"G\": \"न्\", \"ˆ\": \"फ्\", \"C\": \"ऋ\", \"O\": \"इ\", \"Î\": \"ङ्ख\", \"K\": \"प्\",\n",
        "                 \"7\": \"ठ\", \"¶\": \"ठ्ठ\", \"3\": \"घ\", \"9\": \"ढ\", \"?\": \"रु\", \";\": \"स\", \"'\": \"ु\", \"#\": \"३\", \"¢\": \"द्घ\",\n",
        "                 \"/\": \"र\", \"+\": \"ं\", \"ª\": \"ङ\", \"t\": \"त\", \"p\": \"उ\", \"|\": \"्र\", \"x\": \"ह\", \"å\": \"द्व\", \"d\": \"म\", \"`\": \"ञ\",\n",
        "                 \"l\": \"ि\", \"h\": \"ज\", \"T\": \"त्\", \"P\": \"ए\", \"Ý\": \"ट्ठ\", \"\\\\\": \"्\", \"Ù\": \";\", \"X\": \"ह्\", \"Å\": \"हृ\",\n",
        "                 \"D\": \"म्\", \"@\": \"२\", \"Í\": \"ङ्क\", \"L\": \"ी\", \"H\": \"ज्\", \"4\": \"द्ध\", \"±\": \"+\", \"0\": \"ण्\", \"<\": \"?\",\n",
        "                 \"8\": \"ड\", \"¥\": \"र्‍\", \"$\": \"४\", \"¡\": \"ज्ञ्\", \",\": \",\", \"©\": \"र\", \"(\": \"९\", \"‘\": \"ॅ\", \"u\": \"ग\",\n",
        "                 \"q\": \"त्र\", \"}\": \"ै\", \"y\": \"थ\", \"e\": \"भ\", \"a\": \"ब\", \"i\": \"ष्\", \"‰\": \"झ्\", \"U\": \"ग्\", \"Q\": \"त्त\",\n",
        "                 \"]\": \"े\", \"˜\": \"ऽ\", \"Y\": \"थ्\", \"Ø\": \"्य\", \"E\": \"भ्\", \"A\": \"ब्\", \"M\": \"ः\", \"Ì\": \"न्न\", \"I\": \"क्ष्\",\n",
        "                 \"5\": \"छ\", \"´\": \"झ\", \"1\": \"ज्ञ\", \"°\": \"ङ्ढ\", \"=\": \".\", \"Æ\": \"”\", \"‹\": \"ङ्घ\", \"%\": \"५\", \"¤\": \"झ्\",\n",
        "                 \"!\": \"१\", \"-\": \"(\", \"›\": \"द्र\", \")\": \"०\", \"…\": \"‘\", \"Ü\": \"%\"\n",
        "             }}"
      ],
      "metadata": {
        "id": "swBPOqMCBbpL"
      },
      "execution_count": 10,
      "outputs": []
    },
    {
      "cell_type": "code",
      "source": [
        "def nepali_pdf_preeti_to_unicode(pdf_path):\n",
        "    nepali_text = extract_text_from_pdf(pdf_path)\n",
        "    output = ''\n",
        "    for ind in range(len(nepali_text)):\n",
        "        latter = nepali_text[ind]\n",
        "        try:\n",
        "            output = output + all_rules['char-map'][latter]\n",
        "            # print('here')\n",
        "        except:\n",
        "            output = output + latter\n",
        "    for ind in range(len(all_rules['post-rules'])):\n",
        "        output = output.replace(all_rules['post-rules'][ind][0], all_rules['post-rules'][ind][1])\n",
        "\n",
        "    return output"
      ],
      "metadata": {
        "id": "BF92ZsACCdT4"
      },
      "execution_count": 12,
      "outputs": []
    },
    {
      "cell_type": "code",
      "source": [
        "nepali_text = nepali_pdf_preeti_to_unicode('drive/MyDrive/Colab Notebooks/law/constitution_nepali.pdf',1,180)\n",
        "print(nepali_text)"
      ],
      "metadata": {
        "id": "9TAWErdtDH6i"
      },
      "execution_count": null,
      "outputs": []
    },
    {
      "cell_type": "markdown",
      "source": [
        "# Extract English text"
      ],
      "metadata": {
        "id": "izbpT5c-1A0m"
      }
    },
    {
      "cell_type": "code",
      "source": [
        "english_text = extract_text_from_pdf('drive/MyDrive/Colab Notebooks/law/constitution_english.pdf',2,3)\n",
        "print(english_text)"
      ],
      "metadata": {
        "colab": {
          "base_uri": "https://localhost:8080/"
        },
        "id": "gqLBF-qx1Gbm",
        "outputId": "e5a9faea-e112-4772-8bf5-ad63e9e0045d"
      },
      "execution_count": 8,
      "outputs": [
        {
          "output_type": "stream",
          "name": "stdout",
          "text": [
            " \n",
            "(3) \n",
            " \n",
            "Part-1 \n",
            "Preliminary \n",
            "1. \n",
            "Constitution \n",
            "as \n",
            "the \n",
            "fundamental \n",
            "law: \n",
            "(1) \n",
            "This \n",
            "Constitution is the fundamental law of Nepal. Any law \n",
            "inconsistent with this Constitution shall, to the extent of \n",
            "such inconsistency, be void. \n",
            " \n",
            "  \n",
            "(2) It shall be the duty of every person to observe \n",
            "this Constitution. \n",
            "2. \n",
            "Sovereignty and state authority: The sovereignty and \n",
            "state authority of Nepal shall be vested in the Nepalese \n",
            "people. It shall be exercised in accordance with the \n",
            "provisions set forth in this Constitution.  \n",
            "3. \n",
            "Nation: All the Nepalese people, with multiethnic, \n",
            "multilingual, multireligious, multicultural characteristics \n",
            "and in geographical diversities, and having common \n",
            "aspirations and being united by a bond of allegiance to \n",
            "national independence, territorial integrity, national \n",
            "interest and prosperity of Nepal, collectively constitute \n",
            "the nation. \n",
            "4. \n",
            "State of Nepal: (1) Nepal is an independent, indivisible, \n",
            "sovereign, secular, inclusive, democratic, socialism-\n",
            "oriented, federal democratic republican state. \n",
            "Explanation: For the purposes of this Article, \n",
            "\"secular\" means religious, cultural freedoms, including \n",
            "protection of religion, culture handed down from the \n",
            "time immemorial. \n",
            "(2) The territory of Nepal shall comprise: \n",
            "(a) \n",
            "the territory existing at the time of \n",
            "commencement of this Constitution, and \n",
            "(b) \n",
            "such other territory as may be acquired \n",
            "after \n",
            "the \n",
            "commencement \n",
            "of \n",
            "this \n",
            "Constitution. \n",
            "\n"
          ]
        }
      ]
    },
    {
      "cell_type": "markdown",
      "source": [
        "# Create dataframe"
      ],
      "metadata": {
        "id": "r_2GT4ed17d2"
      }
    },
    {
      "cell_type": "code",
      "source": [],
      "metadata": {
        "id": "BPq8hx0e0xW6"
      },
      "execution_count": null,
      "outputs": []
    },
    {
      "cell_type": "code",
      "source": [
        "def extract_text_from_pdf(pdf_path):\n",
        "    try:\n",
        "        # Open the PDF file\n",
        "        pdf_document = fitz.open(pdf_path)\n",
        "\n",
        "        # Initialize an empty string to store extracted text\n",
        "        extracted_text = \"\"\n",
        "\n",
        "        # Iterate through each page in the PDF\n",
        "        for page_num in range(4,6):\n",
        "            page = pdf_document[page_num]\n",
        "            # Extract text from the page\n",
        "            page_text = page.get_text(\"text\")\n",
        "            # Append the extracted text to the result\n",
        "            extracted_text += page_text\n",
        "\n",
        "        # Close the PDF document\n",
        "        pdf_document.close()\n",
        "\n",
        "        return extracted_text\n",
        "\n",
        "    except Exception as e:\n",
        "        return f\"Error extracting text: {str(e)}\"\n",
        "\n",
        "english_text = extract_text_from_pdf('drive/MyDrive/Colab Notebooks/law/constitution_english.pdf')\n",
        "print(english_text)"
      ],
      "metadata": {
        "colab": {
          "base_uri": "https://localhost:8080/"
        },
        "id": "rz3hfL3p2Anj",
        "outputId": "ae38d912-b24d-4e83-cc2d-8c2022472448"
      },
      "execution_count": 17,
      "outputs": [
        {
          "output_type": "stream",
          "name": "stdout",
          "text": [
            " \n",
            "(5) \n",
            " \n",
            "  \n",
            "(3) The Rhododendron Arboreum shall be the \n",
            "national flower, Crimson Colour shall be the national \n",
            "colour, the Cow shall be the national animal and the \n",
            "Lophophorus shall be the national bird of Nepal. \n",
            " \n",
            " \n",
            " \n",
            "(6) \n",
            " \n",
            "Part-2 \n",
            "Citizenship \n",
            "10. \n",
            "Not to deprive of citizenship: (1) No citizen of Nepal \n",
            "shall be deprived of the right to obtain citizenship. \n",
            " \n",
            "  \n",
            "(2) There is a provision of single federal \n",
            "citizenship with State identity in Nepal. \n",
            "11. \n",
            "To be citizens of Nepal: (1) The persons who have \n",
            "obtained the citizenship of Nepal at the time of \n",
            "commencement of this Constitution and who are \n",
            "qualified to obtain citizenship in accordance with this \n",
            "Part shall be the citizens of Nepal. \n",
            " \n",
            "  \n",
            "(2) The following person who has his or her \n",
            "permanent \n",
            "domicile \n",
            "in \n",
            "Nepal \n",
            "at \n",
            "the \n",
            "time \n",
            "of \n",
            "commencement of this Constitution shall be the citizen \n",
            "of Nepal by descent: \n",
            "(a) \n",
            "a \n",
            "person \n",
            "who \n",
            "has \n",
            "obtained \n",
            "the \n",
            "citizenship of Nepal by descent prior to \n",
            "the commencement of this Constitution, \n",
            "(b) \n",
            "a person whose father or mother was a \n",
            "citizen of Nepal at his or her birth. \n",
            "(3) A child of a citizen having obtained the \n",
            "citizenship of Nepal by birth prior to the commencement \n",
            "of this Constitution shall, upon attaining majority, \n",
            "acquire the citizenship of Nepal by descent if the child's \n",
            "father and mother both are citizens of Nepal. \n",
            " (4) Every minor who is found within Nepal and \n",
            "the whereabouts of whose father and mother are not \n",
            "known shall, until the father or the mother of the child is \n",
            "traced, be a citizen of Nepal by descent. \n",
            "(5) A person who is born in Nepal from a woman \n",
            "who is a citizen of Nepal and has resided in Nepal and \n",
            "\n"
          ]
        }
      ]
    }
  ]
}