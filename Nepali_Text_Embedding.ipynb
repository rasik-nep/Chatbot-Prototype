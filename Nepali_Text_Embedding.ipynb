{
  "nbformat": 4,
  "nbformat_minor": 0,
  "metadata": {
    "colab": {
      "provenance": [],
      "authorship_tag": "ABX9TyNayGh3KhoZiNr+nGVc9zPU",
      "include_colab_link": true
    },
    "kernelspec": {
      "name": "python3",
      "display_name": "Python 3"
    },
    "language_info": {
      "name": "python"
    }
  },
  "cells": [
    {
      "cell_type": "markdown",
      "metadata": {
        "id": "view-in-github",
        "colab_type": "text"
      },
      "source": [
        "<a href=\"https://colab.research.google.com/github/rasik-nep/Chatbot-Prototype/blob/main/Nepali_Text_Embedding.ipynb\" target=\"_parent\"><img src=\"https://colab.research.google.com/assets/colab-badge.svg\" alt=\"Open In Colab\"/></a>"
      ]
    },
    {
      "cell_type": "markdown",
      "source": [
        "Application uses OpenAI and Langchain to create a chatbot for text in Nepali language. It includes vector embedding for better understanding and response."
      ],
      "metadata": {
        "id": "jsNtAa9Qj-vv"
      }
    },
    {
      "cell_type": "code",
      "source": [
        "!pip install langchain OpenAI langchain_openai load_dotenv chromadb"
      ],
      "metadata": {
        "id": "weE8YsILFoRZ"
      },
      "execution_count": null,
      "outputs": []
    },
    {
      "cell_type": "code",
      "source": [
        "from langchain.chains.question_answering import load_qa_chain\n",
        "from langchain.document_loaders import TextLoader\n",
        "from langchain_openai import OpenAI"
      ],
      "metadata": {
        "id": "dycLPbw6Zs39"
      },
      "execution_count": null,
      "outputs": []
    },
    {
      "cell_type": "code",
      "source": [
        "documents = TextLoader(\"citizenship.txt\").load()\n",
        "documents"
      ],
      "metadata": {
        "id": "NJc9DzlQaCJA"
      },
      "execution_count": null,
      "outputs": []
    },
    {
      "cell_type": "code",
      "source": [
        "from dotenv import load_dotenv\n",
        "load_dotenv('.env')"
      ],
      "metadata": {
        "colab": {
          "base_uri": "https://localhost:8080/"
        },
        "id": "_zWJ3W2xb79D",
        "outputId": "53fa291c-772b-4917-9aa5-579c58349d50"
      },
      "execution_count": 8,
      "outputs": [
        {
          "output_type": "execute_result",
          "data": {
            "text/plain": [
              "True"
            ]
          },
          "metadata": {},
          "execution_count": 8
        }
      ]
    },
    {
      "cell_type": "code",
      "source": [
        "from langchain.chains.question_answering import load_qa_chain\n",
        "from langchain_openai import OpenAI\n",
        "\n",
        "# we are specifying that OpenAI is the LLM that we want to use in our chain\n",
        "chain = load_qa_chain(llm=OpenAI())\n",
        "query = 'who are allowed to get citizenship in nepal?'\n",
        "response = chain.invoke({\"input_documents\": documents, \"question\": query})\n",
        "print(response[\"output_text\"])"
      ],
      "metadata": {
        "colab": {
          "base_uri": "https://localhost:8080/"
        },
        "id": "etSg2EmQgrnk",
        "outputId": "7510808e-dda7-4e18-a8f3-d693f3a00cfe"
      },
      "execution_count": 21,
      "outputs": [
        {
          "output_type": "stream",
          "name": "stdout",
          "text": [
            " According to the context provided, any Nepali citizen is eligible to receive citizenship in Nepal, including those who have permanent residence in the country, those who have Nepali parentage, and those who have been born in Nepal. However, there are also provisions for foreign nationals to obtain Nepali citizenship under certain circumstances, such as through marriage to a Nepali citizen or through recognition as a Nepali citizen by the government.\n"
          ]
        }
      ]
    },
    {
      "cell_type": "code",
      "source": [
        "# we are specifying that OpenAI is the LLM that we want to use in our chain\n",
        "chain = load_qa_chain(llm=OpenAI())\n",
        "query = 'नेपालमा नागरिकता कसले कसले पाउने ?'\n",
        "response = chain.invoke({\"input_documents\": documents, \"question\": query})\n",
        "print(response[\"output_text\"])"
      ],
      "metadata": {
        "colab": {
          "base_uri": "https://localhost:8080/"
        },
        "id": "auu2BKf_gr-g",
        "outputId": "dcd2e671-50a1-4522-eaf7-511bcc73986a"
      },
      "execution_count": 24,
      "outputs": [
        {
          "output_type": "stream",
          "name": "stdout",
          "text": [
            "\n",
            "नेपालमा नागरिकता पाउने लागि वंशजको आधारमा नेपालको नागरिक हुनु पर्छ । कुनै व्यक्तिको जन्म हुँदाका बखत निजको बाबु वा आमा नेपालको नागरिक रहेछ भने त्यस्तो व्यक्ति र जन्मको आधारमा नेपालको नागरिकता प्राप्त गर्न सक्नुहुन्छ । यो संविधान प्रारम्भ हुनुभन्दा अघि जन\n"
          ]
        }
      ]
    },
    {
      "cell_type": "code",
      "source": [
        "from langchain.text_splitter import RecursiveCharacterTextSplitter\n",
        "text_splitter = RecursiveCharacterTextSplitter(\n",
        "    chunk_size=400,\n",
        "    chunk_overlap=20,\n",
        "    length_function=len\n",
        ")\n",
        "texts = text_splitter.split_documents(documents)\n",
        "texts"
      ],
      "metadata": {
        "id": "TgZpsxQ-bwu5"
      },
      "execution_count": null,
      "outputs": []
    },
    {
      "cell_type": "code",
      "source": [
        "from langchain_community.vectorstores import Chroma\n",
        "from langchain_openai import OpenAIEmbeddings"
      ],
      "metadata": {
        "id": "70pI6LQ8ofVV"
      },
      "execution_count": 27,
      "outputs": []
    },
    {
      "cell_type": "code",
      "source": [
        "vectordb = Chroma.from_documents(\n",
        "  texts,\n",
        "  embedding=OpenAIEmbeddings(),\n",
        "  persist_directory='./data'\n",
        ")\n",
        "vectordb.persist()"
      ],
      "metadata": {
        "id": "d8qMPclBoCOD"
      },
      "execution_count": 28,
      "outputs": []
    },
    {
      "cell_type": "code",
      "source": [
        "from langchain.chains import RetrievalQA\n",
        "from langchain_openai import OpenAI\n",
        "\n",
        "qa_chain = RetrievalQA.from_chain_type(\n",
        "    llm=OpenAI(),\n",
        "    retriever=vectordb.as_retriever(search_kwargs={'k': 7}),\n",
        "    return_source_documents=True\n",
        ")\n",
        "\n",
        "# we can now execute queries against our Q&A chain\n",
        "result = qa_chain.invoke({'query': 'who are allowed to get citizenship in nepal?'})\n",
        "print(result['result'])"
      ],
      "metadata": {
        "colab": {
          "base_uri": "https://localhost:8080/"
        },
        "id": "vTESyumEotwI",
        "outputId": "199e4fbc-2fa3-4f99-f91d-5f9b4e3e8559"
      },
      "execution_count": 29,
      "outputs": [
        {
          "output_type": "stream",
          "name": "stdout",
          "text": [
            " People who are permanent residents of Nepal based on their ancestry or those who are born in Nepal to a Nepali citizen parent, even if they don't have a Nepali citizenship themselves, are allowed to obtain Nepali citizenship. Additionally, those who are married to a Nepali citizen or have Nepali ancestry also have the option to obtain Nepali citizenship.\n"
          ]
        }
      ]
    },
    {
      "cell_type": "code",
      "source": [
        "result = qa_chain.invoke({'query': 'नेपालमा नागरिकता कसले कसले पाउने ?'})\n",
        "print(result['result'])"
      ],
      "metadata": {
        "colab": {
          "base_uri": "https://localhost:8080/"
        },
        "id": "LdXjSLCLo-Gb",
        "outputId": "aeea9056-be9f-4e67-c3e2-8f672e388536"
      },
      "execution_count": 30,
      "outputs": [
        {
          "output_type": "stream",
          "name": "stdout",
          "text": [
            " नेपालमा नागरिकता प्राप्त गर्न सक्ने कुनै कुनै व्यक्तिहरु यहाँ दिएको विषयसँग सम्बन्धित हुन्छन्: जन्मको आधारमा नेपालको नागरिकता प्राप्त गर्न सक्ने व्यक्तिहरू, जस्तैकि यो संविधान प्रारम्भ हुनुभन्दा अघि जन्मको आधारमा नेपालको नागरिकता पाप्त गरेको नागरिकको सन्तानले\n"
          ]
        }
      ]
    }
  ]
}