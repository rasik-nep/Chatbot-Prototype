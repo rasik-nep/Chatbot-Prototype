{
  "nbformat": 4,
  "nbformat_minor": 0,
  "metadata": {
    "colab": {
      "provenance": [],
      "authorship_tag": "ABX9TyNTlhDxlhS9pWbd3J/6HlcS",
      "include_colab_link": true
    },
    "kernelspec": {
      "name": "python3",
      "display_name": "Python 3"
    },
    "language_info": {
      "name": "python"
    }
  },
  "cells": [
    {
      "cell_type": "markdown",
      "metadata": {
        "id": "view-in-github",
        "colab_type": "text"
      },
      "source": [
        "<a href=\"https://colab.research.google.com/github/rasik-nep/Chatbot-Prototype/blob/main/pdf_nepali.ipynb\" target=\"_parent\"><img src=\"https://colab.research.google.com/assets/colab-badge.svg\" alt=\"Open In Colab\"/></a>"
      ]
    },
    {
      "cell_type": "markdown",
      "source": [
        "I was not able to find a suitable library for the pdf. So, I have switched to use .txt instead"
      ],
      "metadata": {
        "id": "_cJO3swlM1RB"
      }
    },
    {
      "cell_type": "code",
      "execution_count": null,
      "metadata": {
        "id": "TMQDri2bxqFl"
      },
      "outputs": [],
      "source": [
        "!pip install pypdf"
      ]
    },
    {
      "cell_type": "code",
      "source": [
        "!pip install langchain"
      ],
      "metadata": {
        "id": "-_--Aurex3ZI"
      },
      "execution_count": null,
      "outputs": []
    },
    {
      "cell_type": "code",
      "source": [
        "from langchain_community.document_loaders import PyPDFLoader\n",
        "\n",
        "loader = PyPDFLoader(\"test_nepali.pdf\")\n",
        "pages = loader.load_and_split()\n",
        "pages[0]"
      ],
      "metadata": {
        "id": "7-kY4g5FxzJo"
      },
      "execution_count": null,
      "outputs": []
    },
    {
      "cell_type": "code",
      "source": [
        "!pip install --upgrade pymupdf"
      ],
      "metadata": {
        "id": "FYKFozgPyLW8"
      },
      "execution_count": null,
      "outputs": []
    },
    {
      "cell_type": "code",
      "source": [
        "import fitz\n",
        "\n",
        "doc = fitz.open(\"test_nepali.pdf\") # open a document\n",
        "out = open(\"output.txt\", \"wb\") # create a text output\n",
        "for page in doc: # iterate the document pages\n",
        "\ttext = page.get_text()\n",
        "\tprint(text)\n",
        "out.close()"
      ],
      "metadata": {
        "id": "vEAcSqsjyetS"
      },
      "execution_count": null,
      "outputs": []
    },
    {
      "cell_type": "code",
      "source": [
        "!pip install pdfplumber"
      ],
      "metadata": {
        "id": "dtRu3a1DzooG"
      },
      "execution_count": null,
      "outputs": []
    },
    {
      "cell_type": "code",
      "source": [
        "import pdfplumber\n",
        "\n",
        "# Open the PDF\n",
        "with pdfplumber.open(\"test_nepali.pdf\") as pdf:\n",
        "    # Extract the text\n",
        "    text = pdf.pages[0].extract_text()\n",
        "    print(text)\n"
      ],
      "metadata": {
        "id": "I5CvqUOqztyV"
      },
      "execution_count": null,
      "outputs": []
    },
    {
      "cell_type": "code",
      "source": [
        "!pip install tika"
      ],
      "metadata": {
        "id": "YvNdc9y85yOg"
      },
      "execution_count": null,
      "outputs": []
    },
    {
      "cell_type": "code",
      "source": [
        "import tika\n",
        "from tika import parser\n",
        "parsed = parser.from_file('test.docx')\n",
        "print(parsed[\"metadata\"])\n",
        "print(parsed[\"content\"])"
      ],
      "metadata": {
        "colab": {
          "base_uri": "https://localhost:8080/"
        },
        "id": "d4Fddyrc5VHc",
        "outputId": "57594d09-e195-40e3-9951-6eda84f2e804"
      },
      "execution_count": 22,
      "outputs": [
        {
          "output_type": "stream",
          "name": "stdout",
          "text": [
            "{'cp:revision': '2', 'extended-properties:AppVersion': '16.0000', 'meta:paragraph-count': '5', 'meta:word-count': '403', 'X-TIKA:Parsed-By-Full-Set': ['org.apache.tika.parser.DefaultParser', 'org.apache.tika.parser.microsoft.ooxml.OOXMLParser'], 'X-TIKA:content_handler': 'ToTextContentHandler', 'dc:creator': 'rasik nepal', 'extended-properties:Company': '', 'meta:print-date': '2024-03-09T08:41:00Z', 'dcterms:created': '2024-03-11T09:44:00Z', 'meta:line-count': '19', 'dcterms:modified': '2024-03-11T09:44:00Z', 'meta:character-count': '2302', 'meta:character-count-with-spaces': '2700', 'extended-properties:TotalTime': '1', 'Content-Length': '17135', 'Content-Type': 'application/vnd.openxmlformats-officedocument.wordprocessingml.document', 'extended-properties:Application': 'Microsoft Office Word', 'meta:last-author': 'rasik nepal', 'xmpTPg:NPages': '2', 'resourceName': \"b'test.docx'\", 'extended-properties:Template': 'Normal', 'X-TIKA:Parsed-By': ['org.apache.tika.parser.DefaultParser', 'org.apache.tika.parser.microsoft.ooxml.OOXMLParser'], 'extended-properties:DocSecurityString': 'None', 'X-TIKA:parse_time_millis': '825', 'X-TIKA:embedded_depth': '0', 'meta:page-count': '2', 'dc:publisher': ''}\n",
            "\n",
            "\n",
            "\n",
            "\n",
            "\n",
            "\n",
            "\n",
            "\n",
            "\n",
            "\n",
            "\n",
            "\n",
            "\n",
            "\n",
            "\n",
            "\n",
            "\n",
            "\n",
            "\n",
            "\n",
            "\n",
            "\n",
            "\n",
            "\n",
            "\n",
            "\n",
            "\n",
            "\n",
            "\n",
            "२२ फागुन, काठमाडौं । घरेलु टोली नेपालले त्रिकोणात्मक टी–२० सिरिजको उपाधि नेदरल्याण्ड्सलाई सुम्पिएको छ ।\n",
            "सुरुवाती दुई खेल गुमाएको नेपाल लगातार दुई जित निकालेर फाइनलमा पुगेको थियो तर क्षमताअनुसार प्रदर्शन गर्न नसक्ने समस्या दोहोरिँदा उपाधि जित्न सकेन ।\n",
            "त्रिवि क्रिकेट मैदानमा टस जित्ने टिमले पहिला बलिङ रोज्ने गर्छ । तर मंगलबार नेपालले टस जितेर पनि ब्याटिङ रोज्यो । कप्तान रोहित पौडेलका अनुसार विकेट राम्रो थियो र, कम्तीमा २०० रन बनाएर नेदरल्याण्ड्सलाई दबावमा राख्ने रणनीतिका साथ पहिला ब्याटिङ गर्ने सामूहिक निर्णय भयो ।\n",
            "सुरुवात राम्रै थियो । चौथो ओभरमा गुग्टेनको बलमा ल्याप सट खेल्ने क्रममा कुशल भुर्तेल २० रनमा बोल्ड हुन पुगे, जतिबेला नेपालको स्कोर २३ रन थियो । त्यसपछि रोहित र आसिफ शेखले इनिङ उकास्दा ९ ओभरमा ८२–१ को अवस्थामा पुग्यो । माइकल लेभिटको १० औं ओभरको दोस्रो बलमा स्कुप खेल्न खोज्दा रोहित २५ रनमा विकेटकिपर स्कटबाट समातिन पुगे ।\n",
            "१२ औं ओभरमा गुल्सन झाले शरिज अहमदलाई दुई छक्का हाने । १४ औं ओभरको चौथो बलमा आसिफ शेख लेभिटको बलमा ४७ रनमा एलबीडब्लू आउट भए । अर्को ओभरमा गुग्टेनले दीपेन्द्रलाई १ रनमा एलबीडब्लू आउट गरेपछि नेपाल दबाबमा पर्‍यो ।\n",
            "१६औं ओभरमा साइब्रान्ड एंगेलब्रेक्टले मात्रै चार रन खर्चिए । उनी पार्टटाइम स्पिनर भएपनि नेपालले फाइदा लिन सकेन । १७ औं ओभरमा लेभिटलाई कुशल मल्लले लगातार तीन छक्का हाने । तर अर्को ओभरमा कुशल मल्ल क्याच आउट भए ।\n",
            "ओभरको अन्तिम बलमा करण केसी आउट भए । १९ औं ओभरको पहिलो र दोस्रो बलमा फर्द क्लासेनले गुल्सन झा र आरिफ शेखको विकेट लिए । अन्तिम ओभरमा १० रन जोडेपछि नेपालले २० ओभरमा १८४ रन मात्र बनाउन सक्यो ।\n",
            "जबकी नेपाली ब्याटरले मध्यक्रममा खुलेर खेल्न सकेको भए २०० रन सजिलै बनाउन सक्थे ।\n",
            "१८५ रनको लक्ष्य पछ्याएको नेदरल्याड्सले भने सोचे जस्तो सुरुवात गर्‍यो । पहिलो बलमै लेभिटले करण केसीलाई डिप मिडविकेटमा छक्का हानेका थिए ।\n",
            "उनले पहिलो विकेटका लागि म्याक्स ओडाउडसँग ८ ओभरमा ८३ रनको साझेदारी गर्दै राम्रो सुरुवात दिलाए । करण केसी, प्रतिश जीसी, दीपेन्द्रसिंह ऐरी, सोमपाल कामी र अविनाश बोहराले बलिङ गरेपनि विकेट लिन सकेनन् । नवौं ओभरमा कुशल मल्लले दुबै ओपनरलाई आउट गर्दै झिनो आशा देखाए ।\n",
            "११औं ओभरमा देब्रेहाते ब्याट्सम्यान क्रिजमा रहेका बेला कुशल मल्ललाई बलिङ गराउने नेपालको निर्णय गलत साबित भयो । रोहितका अनुसार आफ्नो अघिल्लो ओभरमा कुशलले राम्रो गरेका थिए । तर यो ओभरमा उनले त्यसरी बलिङ गर्न सकेनन्, क्याच पनि छुट्यो । त्यसको फाइदा उठाएका बिक्रमजितको तीन छक्काको मद्दतमा नेदरल्याण्ड्सले २० रन जोड्यो ।\n",
            "१६औं र १७औं ओभरमा विकेट गुमाएको नेदरल्याण्ड्सलाई अन्तिम ३ ओभरमा ४० रन चाहियो । १७ औं ओभरमा दीपेन्द्रले मात्र ४ रन दिएपछि खेलमा नेपालको सम्भावना देखिएको थियो । तर १८ औं ओभरमा अविनाश बोहरालाई साइब्रान्डले कुल २१ रन प्रहार गरेपछि खेल नेदरल्यान्ड्सको पक्षमा मोडिएको थियो ।\n",
            "आजको खेलका डेथ ओभरमा योजनाअनुसार बलिङ हुन नसकेको कप्तान रोहितले स्वीकार गरे । डेभ ओभरमा बलिङ गर्नु सहज नभएको भन्दै उनले अगाडि भनेका छन्, ‘अविनाश दाइमाथि भरोसा छ, आउने खेलहरुमा राम्रो गर्नु हुन्छ ।’\n",
            "\n"
          ]
        }
      ]
    },
    {
      "cell_type": "markdown",
      "source": [],
      "metadata": {
        "id": "uftxzqtdM0NH"
      }
    }
  ]
}