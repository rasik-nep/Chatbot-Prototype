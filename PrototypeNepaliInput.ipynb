{
  "nbformat": 4,
  "nbformat_minor": 0,
  "metadata": {
    "colab": {
      "provenance": [],
      "authorship_tag": "ABX9TyPJrxuc3jL32ug7P/0H+04w",
      "include_colab_link": true
    },
    "kernelspec": {
      "name": "python3",
      "display_name": "Python 3"
    },
    "language_info": {
      "name": "python"
    }
  },
  "cells": [
    {
      "cell_type": "markdown",
      "metadata": {
        "id": "view-in-github",
        "colab_type": "text"
      },
      "source": [
        "<a href=\"https://colab.research.google.com/github/rasik-nep/Chatbot-Prototype/blob/main/PrototypeNepaliInput.ipynb\" target=\"_parent\"><img src=\"https://colab.research.google.com/assets/colab-badge.svg\" alt=\"Open In Colab\"/></a>"
      ]
    },
    {
      "cell_type": "markdown",
      "source": [
        "# Prototype\n",
        "This is a prototype for Nepali language pdf. As you can see it generates gibberish. ;("
      ],
      "metadata": {
        "id": "luiFtonuPjxR"
      }
    },
    {
      "cell_type": "code",
      "execution_count": null,
      "metadata": {
        "id": "odYD5GPzHzCn"
      },
      "outputs": [],
      "source": [
        "!pip install langchain OpenAI pypdf langchain_openai load_dotenv"
      ]
    },
    {
      "cell_type": "code",
      "source": [
        "from langchain.chains.question_answering import load_qa_chain\n",
        "from langchain_community.document_loaders import PyPDFLoader\n",
        "from langchain_openai import OpenAI"
      ],
      "metadata": {
        "id": "imP3K20JM_eF"
      },
      "execution_count": 3,
      "outputs": []
    },
    {
      "cell_type": "code",
      "source": [
        "pdf_loader = PyPDFLoader('nepali.pdf')\n",
        "documents = pdf_loader.load()\n",
        "print(documents)"
      ],
      "metadata": {
        "colab": {
          "base_uri": "https://localhost:8080/"
        },
        "id": "s7oXepGuNTEn",
        "outputId": "58fae630-6611-4ab6-dc25-655363c41532"
      },
      "execution_count": 27,
      "outputs": [
        {
          "output_type": "stream",
          "name": "stdout",
          "text": [
            "[Document(page_content='२२ फागुन , काठमाड ौं  । घरेलु  टोली  नेपालले  त्रिकोणात्मक  टी–२० त्रिररजको  उपात्रि  नेदरल्याण्ड्िलाई  \\nिुम्पिएको  छ । \\nिुरुवाती  दुई खेल गुमाएको  नेपाल  लगातार  दुई त्रजत त्रनकालेर  फाइनलमा  पुगेको  त्रियो  तर क्षमताअनुिार  \\nप्रदर्शन  गनश निक्ने  िमस्या  दोहोररिँदा  उपात्रि  त्रजत्न  िक े न  । \\nत्रित्रव  त्रिक े ट  मैदानमा  टि त्रजत्ने  त्रटमले  पत्रहला  बत्रलङ  रोज्ने गछश । तर मौंगलबार  नेपालले  टि त्रजतेर  पत्रन \\nब्यात्रटङ  रोज्यो  । कप्तान  रोत्रहत  प डेलका  अनुिार  त्रवक े ट  राम्रो  त्रियो  र, कम्तीमा  २०० रन बनाएर  \\nनेदरल्याण्ड्िलाई  दबावमा  राख्ने रणनीत्रतका  िाि पत्रहला  ब्यात्रटङ  गने िामूत्रहक  त्रनणशय  भयो । \\nिुरुवात  राम्रै त्रियो  । च िो  ओभरमा  गुग्टेनको  बलमा  ल्याप  िट खेल्ने  िममा  क ु र्ल  भुतेल  २० रनमा  बोल्ड  \\nहुन पुगे, जत्रतबेला  नेपालको  स्कोर  २३ रन त्रियो  । त्यिपत्रछ  रोत्रहत  र आत्रिफ  र्ेखले  इत्रनङ  उकास्दा  ९ \\nओभरमा  ८२–१ को अवस्थामा  पुग्यो  । माइकल  लेत्रभटको  १० औौं ओभरको  दोस्रो  बलमा  स्क ु प  खेल्न  खोज्दा  \\nरोत्रहत  २५ रनमा  त्रवक े टत्रकपर  स्कटबाट  िमात्रतन  पुगे । \\n१२ औौं ओभरमा  गुल्सन  झाले  र्ररज  अहमदलाई  दुई छक्का  हाने । १४ औौं ओभरको  च िो  बलमा  आत्रिफ  \\nर्ेख लेत्रभटको  बलमा  ४७ रनमा  एलबीडब्लू  आउट  भए । अको  ओभरमा  गुग्टेनले  दीपेन्द्रलाई  १ रनमा  \\nएलबीडब्लू  आउट  गरेपत्रछ  नेपाल  दबाबमा  पर्\\u200d यो  । \\n१६औौं  ओभरमा  िाइब्रान्ड  एौंगेलब्रेक्टले  मािै चार रन खत्रचशए  । उनी पाटशटाइम  म्पिनर  भएपत्रन  नेपालले  फाइदा  \\nत्रलन िक े न  । १७ औौं ओभरमा  लेत्रभटलाई  क ु र्ल  मल्लले  लगातार  तीन छक्का  हाने । तर अको  ओभरमा  \\nक ु र्ल  मल्ल  क्याच  आउट  भए । \\nओभरको  अम्पिम  बलमा  करण  क े िी  आउट  भए । १९ औौं ओभरको  पत्रहलो  र दोस्रो  बलमा  फदश क्लािेनले  \\nगुल्सन  झा र आररफ  र्ेखको  त्रवक े ट  त्रलए । अम्पिम  ओभरमा  १० रन जोडेपत्रछ  नेपालले  २० ओभरमा  १८४ रन \\nमाि बनाउन  िक्यो  । \\nजबकी  नेपाली  ब्याटरले  मध्यिममा  खुलेर  खेल्न  िक े को  भए २०० रन ित्रजलै  बनाउन  िक्थे  । \\n१८५ रनको  लक्ष्य  पछ्याएको  नेदरल्याड्िले  भने िोचे  जस्तो  िुरुवात  गर्\\u200d यो  । पत्रहलो  बलमै  लेत्रभटले  करण  \\nक े िीलाई  त्रडप त्रमडत्रवक े टमा  छक्का  हानेका  त्रिए । \\nउनले  पत्रहलो  त्रवक े टका  लात्रग  म्याक्स  ओडाउडििँग  ८ ओभरमा  ८३ रनको  िाझेदारी  गदै राम्रो  िुरुवात  त्रदलाए  \\n। करण  क े िी , प्रत्रतर्  जीिी , दीपेन्द्रत्रिौंह  ऐरी, िोमपाल  कामी  र अत्रवनार्  बोहराले  बत्रलङ  गरेपत्रन  त्रवक े ट  त्रलन \\nिक े नन्  । नव ौं ओभरमा  क ु र्ल  मल्लले  दुबै ओपनरलाई  आउट  गदै त्रझनो  आर्ा  देखाए  । ', metadata={'source': 'nepali.pdf', 'page': 0}), Document(page_content='११औौं  ओभरमा  देब्रेहाते  ब्याट्िम्यान  त्रिजमा  रहेका  बेला क ु र्ल  मल्ललाई  बत्रलङ  गराउने  नेपालको  त्रनणशय  \\nगलत  िात्रबत  भयो । रोत्रहतका  अनुिार  आफ्नो  अत्रघल्लो  ओभरमा  क ु र्लले  राम्रो  गरेका  त्रिए । तर यो \\nओभरमा  उनले  त्यिरी  बत्रलङ  गनश िक े नन् , क्याच  पत्रन छुट्यो  । त्यिको  फाइदा  उठाएका  त्रबिमत्रजतको  तीन \\nछक्काको  मद्दतमा  नेदरल्याण्ड्िले  २० रन जोड्यो  । \\n१६औौं  र १७औौं  ओभरमा  त्रवक े ट  गुमाएको  नेदरल्याण्ड्िलाई  अम्पिम  ३ ओभरमा  ४० रन चात्रहयो  । १७ औौं \\nओभरमा  दीपेन्द्रले  माि ४ रन त्रदएपत्रछ  खेलमा  नेपालको  िम्भावना  देम्पखएको  त्रियो  । तर १८ औौं ओभरमा  \\nअत्रवनार्  बोहरालाई  िाइब्रान्डले  क ु ल २१ रन प्रहार  गरेपत्रछ  खेल नेदरल्यान्ड्िको  पक्षमा  मोत्रडएको  त्रियो  । \\nआजको  खेलका  डेि ओभरमा  योजनाअनुिार  बत्रलङ  हुन निक े को  कप्तान  रोत्रहतले  स्वीकार  गरे । डेभ \\nओभरमा  बत्रलङ  गनुश िहज  नभएको  भन्दै उनले  अगात्रड  भनेका  छन्, ‘अत्रवनार्  दाइमात्रि  भरोिा  छ, आउने  \\nखेलहरुमा  राम्रो  गनुश हुन्छ  ।’ ', metadata={'source': 'nepali.pdf', 'page': 1})]\n"
          ]
        }
      ]
    },
    {
      "cell_type": "code",
      "source": [
        "from dotenv import load_dotenv\n",
        "load_dotenv('.env')"
      ],
      "metadata": {
        "colab": {
          "base_uri": "https://localhost:8080/"
        },
        "id": "0HrQQWSzOj7r",
        "outputId": "76af5583-061c-4617-f163-230c29ebf405"
      },
      "execution_count": 28,
      "outputs": [
        {
          "output_type": "execute_result",
          "data": {
            "text/plain": [
              "True"
            ]
          },
          "metadata": {},
          "execution_count": 28
        }
      ]
    },
    {
      "cell_type": "code",
      "source": [
        "from langchain.text_splitter import CharacterTextSplitter\n",
        "from langchain_openai import OpenAIEmbeddings"
      ],
      "metadata": {
        "id": "pNfyKbx89KHf"
      },
      "execution_count": 6,
      "outputs": []
    },
    {
      "cell_type": "code",
      "source": [
        "# we split the data into chunks of 2,000 characters, with an overlap\n",
        "# of 300 characters between the chunks, which helps to give better results\n",
        "# and contain the context of the information between chunks\n",
        "text_splitter = CharacterTextSplitter(chunk_size=1000, chunk_overlap=200)\n",
        "documents = text_splitter.split_documents(documents)"
      ],
      "metadata": {
        "id": "Ce-b4sL49AcA"
      },
      "execution_count": 35,
      "outputs": []
    },
    {
      "cell_type": "code",
      "source": [
        "!pip install chromadb"
      ],
      "metadata": {
        "id": "NiqTFV7fUgrH"
      },
      "execution_count": null,
      "outputs": []
    },
    {
      "cell_type": "code",
      "source": [
        "from langchain_community.vectorstores import Chroma"
      ],
      "metadata": {
        "id": "8IFueQzq9hY6"
      },
      "execution_count": 13,
      "outputs": []
    },
    {
      "cell_type": "code",
      "source": [
        "# we create our vectorDB, using the OpenAIEmbeddings tranformer to create\n",
        "# embeddings from our text chunks. We set all the db information to be stored\n",
        "# inside the ./data directory, so it doesn't clutter up our source files\n",
        "vectordb = Chroma.from_documents(\n",
        "  documents,\n",
        "  embedding=OpenAIEmbeddings(),\n",
        "  persist_directory='./data'\n",
        ")\n",
        "vectordb.persist()"
      ],
      "metadata": {
        "id": "Aa_FLwA_9doh"
      },
      "execution_count": null,
      "outputs": []
    },
    {
      "cell_type": "code",
      "source": [
        "from langchain.chains.question_answering import load_qa_chain\n",
        "from langchain_openai import OpenAI\n",
        "\n",
        "# we are specifying that OpenAI is the LLM that we want to use in our chain\n",
        "chain = load_qa_chain(llm=OpenAI())\n",
        "query = 'चौथो ओभरमा कुर्ल भुतेललाई के भयो ? याे कसरी भयाे? '\n",
        "response = chain.invoke({\"input_documents\": documents, \"question\": query})\n",
        "print(response[\"output_text\"])\n"
      ],
      "metadata": {
        "colab": {
          "base_uri": "https://localhost:8080/"
        },
        "id": "ufmoF-poNfws",
        "outputId": "c7993df6-7ef3-49ee-fc9a-ea7b3b3f5734"
      },
      "execution_count": 37,
      "outputs": [
        {
          "output_type": "stream",
          "name": "stdout",
          "text": [
            " चौथो ओभरमा कुर्ल भुतेललाई १ रनमा एउट गर्ने गरेपत्रछ नेपालले दबाबमा पर्‍ यो। यसरी भयो कि नेपालले बलमै लेत्रभटलाई करण के इहत्तियार नगरेको हो कि नेपालले बलमै लेत्रभटलाई चौथो ओभरमा एउट गर्न दिएन।\n"
          ]
        }
      ]
    }
  ]
}